{
 "cells": [
  {
   "cell_type": "code",
   "execution_count": null,
   "id": "098f30f6-6f3d-4ae9-a756-91900c7644c5",
   "metadata": {},
   "outputs": [],
   "source": [
    "# Click on the boxes in order from the top, and <Shift>+<Enter>\n",
    "# Or click the <RUN> button on the top for all cells starting at the top and moving down \n",
    "# Including this box\n",
    "import numpy as np\n",
    "import matplotlib.pyplot as plt\n",
    "from scipy import stats\n",
    "from scipy.optimize import curve_fit\n",
    "import pandas as pd\n",
    "# import warnings\n",
    "# warnings.filterwarnings('ignore')"
   ]
  },
  {
   "cell_type": "code",
   "execution_count": null,
   "id": "9794062d-354b-4c79-99a3-b89f10ef2d7f",
   "metadata": {},
   "outputs": [],
   "source": [
    "def gaussian():\n",
    "    num =100000\n",
    "    mean = 5.0\n",
    "    sigma = 1.0\n",
    "    thrown = np.random.normal(loc=mean, scale=sigma, size=num)\n",
    "    plt.hist(thrown, bins=100, density=True)\n",
    "    mu, std = stats.norm.fit(thrown)\n",
    "    xmin, xmax = plt.xlim()\n",
    "    x = np.linspace(xmin, xmax, 100)\n",
    "    y = stats.norm.pdf(x, mu, std)\n",
    "    plt.plot(x, y, linewidth=2, label = \"Fit results:\\n$\\\\mu$ = %.2f\\n$\\\\sigma$ = %.2f\" % (mu, std))\n",
    "\n",
    "    plt.title(\"Gaussian Distribution With Fit\")\n",
    "    plt.xlabel(\"x axis\")\n",
    "    plt.ylabel(\"y axis\")\n",
    "    plt.legend()\n",
    "    plt.show()"
   ]
  },
  {
   "cell_type": "code",
   "execution_count": null,
   "id": "ce356dd7-f25a-4df4-93f2-07bf115bb8a6",
   "metadata": {},
   "outputs": [],
   "source": [
    "gaussian()\n"
   ]
  },
  {
   "cell_type": "code",
   "execution_count": null,
   "id": "476f71c0-5a85-4274-9687-74131f54ef6f",
   "metadata": {},
   "outputs": [],
   "source": []
  }
 ],
 "metadata": {
  "kernelspec": {
   "display_name": "Python 3 (ipykernel)",
   "language": "python",
   "name": "python3"
  },
  "language_info": {
   "codemirror_mode": {
    "name": "ipython",
    "version": 3
   },
   "file_extension": ".py",
   "mimetype": "text/x-python",
   "name": "python",
   "nbconvert_exporter": "python",
   "pygments_lexer": "ipython3",
   "version": "3.12.6"
  }
 },
 "nbformat": 4,
 "nbformat_minor": 5
}
